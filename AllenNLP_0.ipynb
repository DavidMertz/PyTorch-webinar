{
 "cells": [
  {
   "cell_type": "markdown",
   "metadata": {},
   "source": [
    "# Machine Learning with PyTorch"
   ]
  },
  {
   "cell_type": "markdown",
   "metadata": {},
   "source": [
    "## Natural Language Processing with AllenNLP"
   ]
  },
  {
   "cell_type": "markdown",
   "metadata": {},
   "source": [
    "<font size=\"+1\"><b><u>What is AllenNLP?</u></b></font>\n",
    "<a href=\"AllenNLP_0.ipynb\"><img src=\"img/open-notebook.png\" align=\"right\"/></a>\n",
    "\n",
    "<font size=\"+1\">What is SpaCy?</font>\n",
    "<a href=\"AllenNLP_1.ipynb\"><img src=\"img/open-notebook.png\" align=\"right\"/></a>\n",
    "\n",
    "<font size=\"+1\">High Level Interfaces to NLP using PyTorch</font>\n",
    "<a href=\"AllenNLP_2.ipynb\"><img src=\"img/open-notebook.png\" align=\"right\"/></a>\n",
    "\n",
    "<font size=\"+1\">Sentiment Analysis</font>\n",
    "<a href=\"AllenNLP_3.ipynb\"><img src=\"img/open-notebook.png\" align=\"right\"/></a>\n",
    "\n",
    "<font size=\"+1\">Part-of-Speech Tagging</font> \n",
    "<a href=\"AllenNLP_4.ipynb\"><img src=\"img/open-notebook.png\" align=\"right\"/></a>"
   ]
  },
  {
   "cell_type": "markdown",
   "metadata": {},
   "source": [
    "## What is AllenNLP?\n",
    "\n",
    "AllenNLP is a library built on top of PyTorch that provides a large number of well tested, powerful, higher-level abstractions that are specifically useful for performing Natural Language Processing tasks with using neural networks.\n",
    "\n",
    "It is much easier to develop and test these NLP models using these higher abstractions than with the lower-level PyTorch basics—even those in `torch.nn` and `torch.nn.functional`.  A lot of the \"busy work with training schedules, metrics, optimization functions, data readers, and other aspects are wrapped in convenience functions or classes within AllenNLP.  However, using AllenNLP, you often make direct use of PyTorch functions, and under the hood all the computational work remains PyTorch."
   ]
  },
  {
   "cell_type": "markdown",
   "metadata": {},
   "source": [
    "### Digression\n",
    "\n",
    "One thing you will probably notice about the code in this chapter is that AllenNLP makes broad use of [optional type annotations](https://www.python.org/dev/peps/pep-0484/).  Learning about those is a different course.  But as you see things like this, don't panic:\n",
    "\n",
    "```python\n",
    "def first(l: Sequence[T]) -> T:  \n",
    "    return l[0]\n",
    "```\n",
    "\n",
    "The stuff that comes after the colons in formal parameters or after `->` in return values has no effect at runtime; it is used only by external type-checking tools that can make recommendations about code-correctness by static analysis."
   ]
  },
  {
   "cell_type": "code",
   "execution_count": null,
   "metadata": {},
   "outputs": [],
   "source": [
    "import warnings\n",
    "warnings.simplefilter('ignore')"
   ]
  },
  {
   "cell_type": "markdown",
   "metadata": {},
   "source": [
    "AllenNLP can be used to construct models in areas such as the following, each of which have [excellent demos](https://allennlp.org/models) at their website.  If you wish to use it so, the tools in AllenNLP are exposed as command line tools as well.  Behavior of models can be configured with JSON files in many cases rather than programmed in Python, giving (optionally) a more declarative format.  Actually, the configurations use a JSON superset called [Jsonnet](https://jsonnet.org/learning/tutorial.html) that can optionally use a few additional constructs such as local variables."
   ]
  },
  {
   "cell_type": "markdown",
   "metadata": {},
   "source": [
    "### Machine Comprehension\n",
    "\n",
    "In Python, using a pre-trained model:"
   ]
  },
  {
   "cell_type": "code",
   "execution_count": null,
   "metadata": {
    "scrolled": false
   },
   "outputs": [],
   "source": [
    "from allennlp.predictors.predictor import Predictor\n",
    "predictor = Predictor.from_path(\"https://s3-us-west-2.amazonaws.com/allennlp/models/\"\n",
    "                                \"bidaf-model-2017.09.15-charpad.tar.gz\")\n",
    "resp = predictor.predict(\n",
    "  passage=\"The Matrix is a 1999 science fiction action film written and directed by \"\n",
    "          \"The Wachowskis, starring Keanu Reeves, Laurence Fishburne, Carrie-Anne Moss, \"\n",
    "          \"Hugo Weaving, and Joe Pantoliano.\",\n",
    "  question=\"Who stars in The Matrix?\"\n",
    ")\n",
    "\n",
    "print(\"\\n\".join(resp))"
   ]
  },
  {
   "cell_type": "code",
   "execution_count": null,
   "metadata": {},
   "outputs": [],
   "source": [
    "resp['best_span_str']"
   ]
  },
  {
   "cell_type": "markdown",
   "metadata": {},
   "source": [
    "From the command line:"
   ]
  },
  {
   "cell_type": "code",
   "execution_count": null,
   "metadata": {},
   "outputs": [],
   "source": [
    "%%bash\n",
    "TEXT='{\"passage\": \"The Matrix is a 1999 science fiction action film written and directed by \n",
    "The Wachowskis, starring Keanu Reeves, Laurence Fishburne, Carrie-Anne Moss, Hugo Weaving, \n",
    "and Joe Pantoliano.\", \n",
    "\"question\": \"Who stars in The Matrix?\"}' \n",
    "\n",
    "URL_BASE='https://s3-us-west-2.amazonaws.com/allennlp/models'\n",
    "MODEL_URL=$URL_BASE'/bidaf-model-2017.09.15-charpad.tar.gz'\n",
    "RESP=$(echo $TEXT | allennlp predict $MODEL_URL - 2>/dev/null)\n",
    "echo $RESP | sed 's/.*prediction: //' | jq .best_span_str"
   ]
  },
  {
   "cell_type": "markdown",
   "metadata": {},
   "source": [
    "### Textual Entailment\n",
    "\n",
    "We skip the `bash` versions for the rest of these examples.  They can be found at the AllenNLP demo web page linked above.  The [live demo](http://demo.allennlp.org/textual-entailment) visualizes results in a nice way."
   ]
  },
  {
   "cell_type": "code",
   "execution_count": null,
   "metadata": {},
   "outputs": [],
   "source": [
    "from functools import partial\n",
    "from allennlp.predictors.predictor import Predictor\n",
    "predictor = Predictor.from_path(\"https://s3-us-west-2.amazonaws.com/allennlp/models/\"\n",
    "                                \"decomposable-attention-elmo-2018.02.19.tar.gz\")\n",
    "\n",
    "follows = partial(predictor.predict, \n",
    "                  premise=\"Two women are sitting on a blanket near some \"\n",
    "                          \"rocks talking about politics.\")\n",
    "\n",
    "print(predictor.__class__.__name__)"
   ]
  },
  {
   "cell_type": "code",
   "execution_count": null,
   "metadata": {
    "scrolled": false
   },
   "outputs": [],
   "source": [
    "resp = follows(hypothesis=\"The pair of women have political talks.\")\n",
    "\n",
    "print(\"\\n\".join(resp))"
   ]
  },
  {
   "cell_type": "code",
   "execution_count": null,
   "metadata": {},
   "outputs": [],
   "source": [
    "# The listed target descriptions are built into the DecomposableAttentionPredictor\n",
    "for entailment, prob in zip(\n",
    "    ['entailment', 'contradiction', 'neutral'], resp['label_probs']):\n",
    "    print(f\"{entailment:>13}: {prob*100:5.2f}%\")"
   ]
  },
  {
   "cell_type": "code",
   "execution_count": null,
   "metadata": {},
   "outputs": [],
   "source": [
    "resp = follows(hypothesis=\"Two women are wandering along the shore drinking iced tea.\")\n",
    "\n",
    "for entailment, prob in zip(\n",
    "    ['entailment', 'contradiction', 'neutral'], resp['label_probs']):\n",
    "    print(f\"{entailment:>13}: {prob*100:5.2f}%\")"
   ]
  },
  {
   "cell_type": "markdown",
   "metadata": {},
   "source": [
    "### Semantic Role Labeling"
   ]
  },
  {
   "cell_type": "code",
   "execution_count": null,
   "metadata": {},
   "outputs": [],
   "source": [
    "from allennlp.predictors.predictor import Predictor\n",
    "predictor = Predictor.from_path(\"https://s3-us-west-2.amazonaws.com/allennlp/models/\"\n",
    "                                \"srl-model-2018.05.25.tar.gz\")\n",
    "resp = predictor.predict(\n",
    "  sentence=\"Did Uriah honestly think he could beat the game in under three hours?\"\n",
    ")"
   ]
  },
  {
   "cell_type": "code",
   "execution_count": null,
   "metadata": {},
   "outputs": [],
   "source": [
    "for verb in resp['verbs']:\n",
    "    print(verb['verb'].upper(), '\\n ', verb['description'], '\\n')"
   ]
  },
  {
   "cell_type": "markdown",
   "metadata": {},
   "source": [
    "### Named Entity Recognition"
   ]
  },
  {
   "cell_type": "code",
   "execution_count": null,
   "metadata": {},
   "outputs": [],
   "source": [
    "from allennlp.predictors.predictor import Predictor\n",
    "predictor = Predictor.from_path(\"https://s3-us-west-2.amazonaws.com/allennlp/models/\"\n",
    "                                \"ner-model-2018.12.18.tar.gz\")\n",
    "resp = predictor.predict(\n",
    "  sentence=\"AllenNLP is a PyTorch-based natural language processing library developed \"\n",
    "           \"at the Allen Institute for Artificial Intelligence in Seattle.\"\n",
    ")"
   ]
  },
  {
   "cell_type": "code",
   "execution_count": null,
   "metadata": {
    "scrolled": false
   },
   "outputs": [],
   "source": [
    "phrase = []\n",
    "for tag, word in zip(resp['tags'], resp['words']):\n",
    "    if tag.startswith('U-'):\n",
    "        print(tag.replace('U-', ''), word)\n",
    "    elif tag == 'O':\n",
    "        print('   ', word)\n",
    "    elif tag.startswith('B-'):\n",
    "        phrase.append(word)\n",
    "    elif tag.startswith('I-'):\n",
    "        phrase.append(word)\n",
    "    elif tag.startswith('L-'):\n",
    "        phrase.append(word)\n",
    "        print(tag.replace('L-', ''), ' '.join(phrase))\n",
    "        phrase = []\n",
    "    else:\n",
    "        print(\"PROBLEM\")"
   ]
  },
  {
   "cell_type": "markdown",
   "metadata": {},
   "source": [
    "### Other demos\n",
    "\n",
    "There are several additional interesing demos provided with the [AllenNLP model examples](https://allennlp.org/models).  Most likely more will be added over time. "
   ]
  },
  {
   "cell_type": "markdown",
   "metadata": {},
   "source": [
    "### Cleanup large cached models"
   ]
  },
  {
   "cell_type": "code",
   "execution_count": null,
   "metadata": {},
   "outputs": [],
   "source": [
    "!rm ~/.allennlp/cache/*\n",
    "!rm -rf /tmp/*"
   ]
  }
 ],
 "metadata": {
  "kernelspec": {
   "display_name": "Python 3",
   "language": "python",
   "name": "python3"
  },
  "language_info": {
   "codemirror_mode": {
    "name": "ipython",
    "version": 3
   },
   "file_extension": ".py",
   "mimetype": "text/x-python",
   "name": "python",
   "nbconvert_exporter": "python",
   "pygments_lexer": "ipython3",
   "version": "3.7.1"
  }
 },
 "nbformat": 4,
 "nbformat_minor": 2
}
