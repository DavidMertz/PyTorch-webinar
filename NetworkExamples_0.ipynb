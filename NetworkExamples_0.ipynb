{
 "cells": [
  {
   "cell_type": "markdown",
   "metadata": {},
   "source": [
    "# Machine Learning with PyTorch"
   ]
  },
  {
   "cell_type": "markdown",
   "metadata": {},
   "source": [
    "## Tasks with Networks"
   ]
  },
  {
   "cell_type": "markdown",
   "metadata": {},
   "source": [
    "<font size=\"+1\"><u><b>A simple feature classifier</b></u></font>\n",
    "<a href=\"NetworkExamples_0.ipynb\"><img src=\"img/open-notebook.png\" align=\"right\"/></a>\n",
    "\n",
    "<font size=\"+1\">An image classifier</font>\n",
    "<a href=\"NetworkExamples_1.ipynb\"><img src=\"img/open-notebook.png\" align=\"right\"/></a>\n",
    "\n",
    "<font size=\"+1\">A regression prediction</font>\n",
    "<a href=\"NetworkExamples_2.ipynb\"><img src=\"img/open-notebook.png\" align=\"right\"/></a>\n",
    "\n",
    "<font size=\"+1\">Clustering with PyTorch</font>\n",
    "<a href=\"NetworkExamples_3.ipynb\"><img src=\"img/open-notebook.png\" align=\"right\"/></a>\n",
    "\n",
    "<font size=\"+1\">Generative Adversarial Networks (GAN)</font> \n",
    "<a href=\"NetworkExamples_4.ipynb\"><img src=\"img/open-notebook.png\" align=\"right\"/></a>\n",
    "\n",
    "<font size=\"+1\">Part of Speech Tagger</font>\n",
    "<a href=\"NetworkExamples_5.ipynb\"><img src=\"img/open-notebook.png\" align=\"right\"/></a>"
   ]
  },
  {
   "cell_type": "code",
   "execution_count": null,
   "metadata": {},
   "outputs": [],
   "source": [
    "%matplotlib inline\n",
    "import numpy as np\n",
    "import matplotlib.pyplot as plt\n",
    "import pandas as pd\n",
    "import torch\n",
    "from sklearn.model_selection import train_test_split\n",
    "\n",
    "# For demonstration, we can use CPU target if CUDA not available\n",
    "device = torch.device('cpu')\n",
    "\n",
    "# Check the status of the GPU (if present)\n",
    "if torch.cuda.is_available():\n",
    "    print(f'Allocated GPU memory: {torch.cuda.memory_allocated():,}')\n",
    "    # *MUCH* faster to run on GPU\n",
    "    device = torch.device('cuda') "
   ]
  },
  {
   "cell_type": "markdown",
   "metadata": {},
   "source": [
    "## A simple feature classifer\n",
    "\n",
    "The next lesson is a slightly simplified version of a problem I worked on at a former job.  The company sold services to big and small clothing retailers to help guide their customers toward the best garment size for each customer.\n",
    "\n",
    "We made these recommendations based on a survey of a few measurements that consumers tend to know about themselves.  The set of measurements are slightly different for men's versus women's sizes. Moreover, different retailers size their garments—and sometimes different garment categories or lines—differently from other retailers.  This is a case where some machine learning might illuminate the patterns of the relationship between body sizes and clothing sizes."
   ]
  },
  {
   "cell_type": "markdown",
   "metadata": {},
   "source": [
    "First thing, let us read in some actual data used in one of our models.  In production, we did not use PyTorch, nor any DNN framework, but some more \"conventional\" machine learning techniques.  I was curious how a DNN might perform.  \n",
    "\n",
    "You can see that the features below are from some women customers and garments; the data is anonymized in the sense that any customer or garment numbers used by the retailer have been removed.  But the sizes of bodies and clothes are actual, as well as their distribution and interrelationships. The features `bra_size_cup` numerically encodes the letter-sizes used in American garments (e.g. 'A', 'B', 'C', 'D', etc); the other features all start out as numeric values, measured in years, inches, or pounds. (or the not-really-inches encoded by numeric shoe sizes)."
   ]
  },
  {
   "cell_type": "code",
   "execution_count": null,
   "metadata": {},
   "outputs": [],
   "source": [
    "df = pd.read_csv('data/garments.csv.gz', dtype={'TARGET':str})\n",
    "print(len(df))\n",
    "df.head()"
   ]
  },
  {
   "cell_type": "markdown",
   "metadata": {},
   "source": [
    "### Encoding the data\n",
    "\n",
    "For this problem, we one-hot-encode the target classes.  Other loss functions prefer to deal with a single output that is directly ordinal encoded, so we could choose a different encoding if our model needed that. One possible benefit of the one-hot approach is that we can derive something akin to probabilities of the different predictions.  This is desirable for this use case, and many classic models provide a similar `model.predict_proba` for multi-class classifiers."
   ]
  },
  {
   "cell_type": "code",
   "execution_count": null,
   "metadata": {},
   "outputs": [],
   "source": [
    "X = df[['age', 'bra_size_chest', 'bra_size_cup', 'height', 'shoe_size', 'weight']]\n",
    "\n",
    "# One-hot encoding\n",
    "df_one_hot = pd.get_dummies(df)\n",
    "Y = df_one_hot[[col for col in df_one_hot.columns if col.startswith('TARGET')]]\n",
    "\n",
    "# Nicer order for columns (sorted by garment size not lexicographically)\n",
    "Y.columns = [col.replace('TARGET_', '') for col in Y.columns] \n",
    "Y = Y['00 0 2 4 6 8 10 12 14 16 18'.split()]\n",
    "labels = list(Y.columns)\n",
    "labels"
   ]
  },
  {
   "cell_type": "code",
   "execution_count": null,
   "metadata": {},
   "outputs": [],
   "source": [
    "# Take a look at the one-hot targets\n",
    "Y.tail()"
   ]
  },
  {
   "cell_type": "markdown",
   "metadata": {},
   "source": [
    "Choose some values for the size of different layers.  We use a first hidden layer of the size of the second order polynomial of the input features; we hope this will be roughly similar to using something like `sklearn.preprocessing.PolynomialFeatures()`, for those familiar with that."
   ]
  },
  {
   "cell_type": "code",
   "execution_count": null,
   "metadata": {},
   "outputs": [],
   "source": [
    "# The number of input features\n",
    "in_dim = X.shape[1]\n",
    "\n",
    "# The number of \"polynomial features\" of order 2\n",
    "hidden1 = int(in_dim * 2 + (in_dim * (in_dim-1) / 2) + 1)\n",
    "out_dim = Y.shape[1]\n",
    "\n",
    "# The sizes of the \"inference layers\"\n",
    "hidden2 = hidden3 = hidden4 = 2 * out_dim   \n",
    "\n",
    "# Remind ourselves of the layer sizes\n",
    "in_dim, hidden1, hidden2, hidden3, hidden4, out_dim"
   ]
  },
  {
   "cell_type": "markdown",
   "metadata": {},
   "source": [
    "The network we generate will resemble the image below.  Weights are colored arbitrarily in the the below image simply to illustrate the different connection strengths in a trained network; these specific colors/values are randomly selected, not as actually trained below.\n",
    "\n",
    "![Garment Network](img/garment-model.png)\n",
    "\n",
    "Drawn with [NN-SVG](http://alexlenail.me/NN-SVG/index.html)"
   ]
  },
  {
   "cell_type": "markdown",
   "metadata": {},
   "source": [
    "### The training regime\n",
    "\n",
    "The below training function is relatively generic.  It will take as arguments:\n",
    "\n",
    "* A `model` to train that we have configured with `torch.nn.Sequential`, most likely\n",
    "* `X_train` for the training data\n",
    "* `Y_train` as a corresponding one-hot-encoded output vector\n",
    "* An `optimizer` to use within the training regime\n",
    "* A `loss_fn` to use for back propagation \n",
    "* We can also optionally pass in settings for `epochs`, `batch_size`, and `early_stop` for abandoning additional epochs of training."
   ]
  },
  {
   "cell_type": "code",
   "execution_count": null,
   "metadata": {},
   "outputs": [],
   "source": [
    "def do_training(model, X_train, Y_train, optimizer, loss_fn, \n",
    "                epochs=500, batch_size=1000, early_stop=6, quiet=False):\n",
    "    \"Perform a training regime that includes automatic decay of learning rate\"\n",
    "    loss_history = []\n",
    "    print(\"+++ Beginning %d epochs with batch size %d\" % (epochs, batch_size))\n",
    "    \n",
    "    # We expect to decay out, but just in case something funny, \n",
    "    # hard limit of finite number of epochs\n",
    "    for epoch in range(1, epochs+1):\n",
    "        for start in range(0, len(X_train), batch_size):\n",
    "            # Next batch of training rows\n",
    "            X = X_train[start:start+batch_size]\n",
    "            Y = Y_train[start:start+batch_size]\n",
    "\n",
    "            # Forward pass: compute predicted Y by passing X to the model.\n",
    "            Y_pred = model(X)\n",
    "            # Compute loss\n",
    "            loss = loss_fn(Y_pred, Y)\n",
    "        \n",
    "            # Before the backward pass, use the optimizer object to zero all of the\n",
    "            # gradients for the variables it will update (which are the learnable\n",
    "            # weights of the model). This is because by default, gradients are\n",
    "            # accumulated in buffers (i.e, not overwritten) whenever .backward()\n",
    "            # is called. Checkout docs of torch.autograd.backward for more details.\n",
    "            optimizer.zero_grad()\n",
    "\n",
    "            # Backward pass: compute gradient of the loss with respect to model\n",
    "            # parameters\n",
    "            loss.backward()\n",
    "\n",
    "            # Calling the step function on an Optimizer makes an update to its\n",
    "            # parameters\n",
    "            optimizer.step()\n",
    "\n",
    "        # Every epoch print out some information\n",
    "        if quiet:\n",
    "            print('.', end='', flush=True)\n",
    "        else:\n",
    "            print(\"Epoch %d; Loss: %0.6f (lr=%0.8f)\" % (\n",
    "                    epoch, loss.item(), optimizer.param_groups[0]['lr']))\n",
    "        loss_history.append(loss.item())\n",
    "\n",
    "        # Is this regime currently failing to reduce loss?\n",
    "        ## Run for at least `early_stop` epochs\n",
    "        if len(loss_history) < early_stop:\n",
    "            continue\n",
    "            \n",
    "        ## Lower learning rate by 2x if no improvement in loss for multiple epochs\n",
    "        diff = max(loss_history[-early_stop:]) - min(loss_history[-early_stop:])\n",
    "        if  diff/loss_history[-1] < 0.005:\n",
    "            optimizer.param_groups[0]['lr'] /= 2\n",
    "            \n",
    "        ## If learning rate is lowered to tiny value, we are not getting anywhere\n",
    "        if optimizer.param_groups[0]['lr'] < 1e-8:\n",
    "            print(\"+++ Discontinuing training regime when loss becomes constant\")\n",
    "            break\n",
    "\n",
    "    # Final message in quiet mode\n",
    "    if quiet:\n",
    "        print(\"\\nFinal: Epoch %d; Loss: %0.6f (lr=%0.8f)\" % (\n",
    "                epoch, loss.item(), optimizer.param_groups[0]['lr']))"
   ]
  },
  {
   "cell_type": "markdown",
   "metadata": {},
   "source": [
    "### Creating the model\n",
    "\n",
    "This model, and this type of problem, chooses to use multiple fully-connected or \"linear\" layers.  A first hidden layer we hope to use to capture all the immediate feature interactions.  After that, three additional hidden layers are very similar to each other, having what we hope is simply \"enough\" neurons at each layer.  In my experimentation, there is little difference if we use one fewer hidden layer."
   ]
  },
  {
   "cell_type": "code",
   "execution_count": null,
   "metadata": {},
   "outputs": [],
   "source": [
    "# Create a sequential NN\n",
    "model = torch.nn.Sequential(\n",
    "    # This layer allows \"polynomial features\"\n",
    "    torch.nn.Linear(in_dim, hidden1),\n",
    "    # The activation is treated as a separate layer\n",
    "    torch.nn.ReLU(),\n",
    "\n",
    "    # This layer is \"inference\"\n",
    "    torch.nn.Linear(hidden1, hidden2),\n",
    "    torch.nn.ReLU(), \n",
    "    \n",
    "    # A Dropout layer sometimes reduces co-adaptation of neurons\n",
    "    torch.nn.Dropout(p=0.1),\n",
    "\n",
    "    # This layer is \"inference\"\n",
    "    torch.nn.Linear(hidden2, hidden3),\n",
    "    # Often Leaky ReLU eliminates the \"dead neuron\" danger\n",
    "    torch.nn.LeakyReLU(), \n",
    "    \n",
    "    # Might try another \"inference\" layer\n",
    "    torch.nn.Linear(hidden3, hidden4),\n",
    "    torch.nn.LeakyReLU(), \n",
    "\n",
    "    # A sigmoid activation is used for a binary decision\n",
    "    # Since we use one-hot encoding, we make an independent decision per size\n",
    "    torch.nn.Linear(hidden4, out_dim),  \n",
    "    torch.nn.Sigmoid()\n",
    "    ).to(device)"
   ]
  },
  {
   "cell_type": "markdown",
   "metadata": {},
   "source": [
    "### Train/test split on data, and convert to tensors"
   ]
  },
  {
   "cell_type": "code",
   "execution_count": null,
   "metadata": {},
   "outputs": [],
   "source": [
    "# Free up the GPU\n",
    "torch.cuda.empty_cache()\n",
    "print(\"Just the model itself:\")\n",
    "print(f\"{torch.cuda.memory_allocated():,} bytes allocated on GPU\")\n",
    "\n",
    "# Split the original data\n",
    "X_train, X_test, Y_train, Y_test = train_test_split(X, Y)\n",
    "\n",
    "# Convert arrays to tensors\n",
    "X_train = torch.from_numpy(X_train.values).float().to(device)\n",
    "X_test  = torch.from_numpy(X_test.values).float().to(device)\n",
    "Y_train = torch.from_numpy(Y_train.values)[:, np.newaxis].float().to(device)\n",
    "Y_test  = torch.from_numpy(Y_test.values)[:, np.newaxis].float().to(device)\n",
    "\n",
    "print(\"Add the training and testing data to GPU:\")\n",
    "print(f\"{torch.cuda.memory_allocated():,} bytes allocated on GPU\")"
   ]
  },
  {
   "cell_type": "code",
   "execution_count": null,
   "metadata": {},
   "outputs": [],
   "source": [
    "from torchsummary import summary\n",
    "summary(model, input_size=(1, X_train.shape[1]))"
   ]
  },
  {
   "cell_type": "markdown",
   "metadata": {},
   "source": [
    "### Perform the training"
   ]
  },
  {
   "cell_type": "code",
   "execution_count": null,
   "metadata": {},
   "outputs": [],
   "source": [
    "# The target is 3D, but with the middle dimension 1\n",
    "print(Y_train.size())\n",
    "# We should remove the extra dimension to conform to model shape\n",
    "target = Y_train.view(-1,11)\n",
    "print(target.size())"
   ]
  },
  {
   "cell_type": "code",
   "execution_count": null,
   "metadata": {
    "scrolled": false
   },
   "outputs": [],
   "source": [
    "%%time\n",
    "## Now run model (start with high learning rate and decay)\n",
    "\n",
    "# MSELoss is a common default, SmoothL1Loss does a little better here\n",
    "loss_fn = torch.nn.SmoothL1Loss()\n",
    "learning_rate = 1e-4\n",
    "optimizer = torch.optim.Adam(model.parameters(), lr=learning_rate)\n",
    "# We should remove the extra \n",
    "do_training(model, X_train, target, optimizer, loss_fn, epochs=250)"
   ]
  },
  {
   "cell_type": "markdown",
   "metadata": {},
   "source": [
    "### Evaluating the model\n",
    "\n",
    "Unfortunately, this approach does not make especially good predictions.  One wrinkle in the problem is that while we would ideally like to predict the absolutely correct answer as often as possible, there is some value as well in making predictions that are *close* and/or having 2nd or 3rd ranked predictions that are right or close.  Perhaps a custom loss function that expressed the exact real goal would do better.\n",
    "\n",
    "The main problem that shows up in this PyTorch model is one that we experienced using some other classes of machine learning approaches: the predictions tend to skew towards more central values.  This makes them correct, or at least close, for \"average sized\" customers, but often dramatically off for those at either end of the garment size scale."
   ]
  },
  {
   "cell_type": "code",
   "execution_count": null,
   "metadata": {},
   "outputs": [],
   "source": [
    "from random import randrange\n",
    "\n",
    "ndx = randrange(len(X_test))\n",
    "probs = model(X_test[ndx])\n",
    "truth = torch.argmax(Y_test[ndx]).item()\n",
    "\n",
    "plt.figure(figsize=(8, 4))\n",
    "plt.plot(labels, probs.cpu().detach().numpy())\n",
    "plt.bar(truth, 1.1*max(probs.cpu().detach().numpy()), width=.25, color='red')\n",
    "plt.xticks(range(len(labels)), labels, fontsize=8, rotation='vertical');"
   ]
  },
  {
   "cell_type": "markdown",
   "metadata": {},
   "source": [
    "### Additional training\n",
    "\n",
    "Even though it is not obvious in the loss, we actually **do** get a narrower peak and often more accurate estimates with more epochs."
   ]
  },
  {
   "cell_type": "code",
   "execution_count": null,
   "metadata": {},
   "outputs": [],
   "source": [
    "%%time\n",
    "# Expect ~7 min\n",
    "do_training(model, X_train, target, optimizer, loss_fn, \n",
    "            early_stop=1001, quiet=True, epochs=1000)"
   ]
  },
  {
   "cell_type": "markdown",
   "metadata": {},
   "source": [
    "## Next Lesson\n",
    "\n",
    "**Tasks with Networks**: This example was a relatively common one of making categorical predictions from independent features.  For this type of network generally uses primarily or exclusively linear layers.  Next we will take a look at an image classifer that will need some layers to associate nearby pixels.\n",
    "\n",
    "<a href=\"NetworkExamples_1.ipynb\"><img src=\"img/open-notebook.png\" align=\"left\"/></a>"
   ]
  }
 ],
 "metadata": {
  "kernelspec": {
   "display_name": "Python 3",
   "language": "python",
   "name": "python3"
  },
  "language_info": {
   "codemirror_mode": {
    "name": "ipython",
    "version": 3
   },
   "file_extension": ".py",
   "mimetype": "text/x-python",
   "name": "python",
   "nbconvert_exporter": "python",
   "pygments_lexer": "ipython3",
   "version": "3.8.8"
  }
 },
 "nbformat": 4,
 "nbformat_minor": 2
}
