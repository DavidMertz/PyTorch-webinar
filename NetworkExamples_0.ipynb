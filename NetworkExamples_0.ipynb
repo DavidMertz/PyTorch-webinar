{
 "cells": [
  {
   "cell_type": "markdown",
   "metadata": {},
   "source": [
    "# Machine Learning with PyTorch"
   ]
  },
  {
   "cell_type": "markdown",
   "metadata": {},
   "source": [
    "## Tasks with Networks"
   ]
  },
  {
   "cell_type": "markdown",
   "metadata": {},
   "source": [
    "<font size=\"+1\"><u><b>A simple feature classifier</b></u></font>\n",
    "<a href=\"NetworkExamples_0.ipynb\"><img src=\"img/open-notebook.png\" align=\"right\"/></a>\n",
    "\n",
    "<font size=\"+1\">An image classifier</font>\n",
    "<a href=\"NetworkExamples_1.ipynb\"><img src=\"img/open-notebook.png\" align=\"right\"/></a>\n",
    "\n",
    "<font size=\"+1\">A regression prediction</font>\n",
    "<a href=\"NetworkExamples_2.ipynb\"><img src=\"img/open-notebook.png\" align=\"right\"/></a>\n",
    "\n",
    "<font size=\"+1\">Clustering with PyTorch</font>\n",
    "<a href=\"NetworkExamples_3.ipynb\"><img src=\"img/open-notebook.png\" align=\"right\"/></a>\n",
    "\n",
    "<font size=\"+1\">Generative Adversarial Networks (GAN)</font> \n",
    "<a href=\"NetworkExamples_4.ipynb\"><img src=\"img/open-notebook.png\" align=\"right\"/></a>\n",
    "\n",
    "<font size=\"+1\">Part of Speech Tagger</font>\n",
    "<a href=\"NetworkExamples_5.ipynb\"><img src=\"img/open-notebook.png\" align=\"right\"/></a>"
   ]
  },
  {
   "cell_type": "code",
   "execution_count": 4,
   "metadata": {},
   "outputs": [
    {
     "name": "stdout",
     "output_type": "stream",
     "text": [
      "Allocated GPU memory: 0\n"
     ]
    }
   ],
   "source": [
    "%matplotlib inline\n",
    "import numpy as np\n",
    "import matplotlib.pyplot as plt\n",
    "import pandas as pd\n",
    "import torch\n",
    "from sklearn.model_selection import train_test_split\n",
    "\n",
    "# For demonstration, we can use CPU target if CUDA not available\n",
    "device = torch.device('cpu')\n",
    "\n",
    "# Check the status of the GPU (if present)\n",
    "if torch.cuda.is_available():\n",
    "    print(f'Allocated GPU memory: {torch.cuda.memory_allocated():,}')\n",
    "    # *MUCH* faster to run on GPU\n",
    "    device = torch.device('cuda') "
   ]
  },
  {
   "cell_type": "markdown",
   "metadata": {},
   "source": [
    "## A simple feature classifer\n",
    "\n",
    "The next lesson is a slightly simplified version of a problem I worked on in my day job at [BoldMetrics Inc.](https://www.boldmetrics.com/).  The company I work for, as Chief Technology Officer, sells services to big and small clothing retailers to help guide their customers toward the best garment size for each customer.\n",
    "\n",
    "We make these recommendations based on a survey of a few measurements that consumers tend to know about themselves.  The set of measurements are slightly different for men's versus women's sizes. Moreover, different retailers size their garments—and sometimes different garment categories or lines—differently from other retailers.  This is a case where some machine learning might illuminate the patterns of the relationship between body sizes and clothing sizes."
   ]
  },
  {
   "cell_type": "markdown",
   "metadata": {},
   "source": [
    "First thing, let us read in some actual data used in one of our models.  In production, we do not use PyTorch, nor any DNN framework, but some more \"conventional\" machine learning techniques.  I was curious how a DNN might perform.  \n",
    "\n",
    "You can see that the features below are from some women customers and garments; the data is anonymized in the sense that any customer or garment numbers used by the retailer have been removed.  But the sizes of bodies and clothes are actual, as well as their distribution and interrelationships. The features `bra_size_cup` numerically encodes the letter-sizes used in American garments (e.g. 'A', 'B', 'C', 'D', etc); the other features all start out as numeric values, measured in years, inches, or pounds. (or the not-really-inches encoded by numeric shoe sizes)."
   ]
  },
  {
   "cell_type": "code",
   "execution_count": 5,
   "metadata": {},
   "outputs": [
    {
     "name": "stdout",
     "output_type": "stream",
     "text": [
      "243570\n"
     ]
    },
    {
     "data": {
      "text/html": [
       "<div>\n",
       "<style scoped>\n",
       "    .dataframe tbody tr th:only-of-type {\n",
       "        vertical-align: middle;\n",
       "    }\n",
       "\n",
       "    .dataframe tbody tr th {\n",
       "        vertical-align: top;\n",
       "    }\n",
       "\n",
       "    .dataframe thead th {\n",
       "        text-align: right;\n",
       "    }\n",
       "</style>\n",
       "<table border=\"1\" class=\"dataframe\">\n",
       "  <thead>\n",
       "    <tr style=\"text-align: right;\">\n",
       "      <th></th>\n",
       "      <th>age</th>\n",
       "      <th>bra_size_chest</th>\n",
       "      <th>bra_size_cup</th>\n",
       "      <th>height</th>\n",
       "      <th>shoe_size</th>\n",
       "      <th>weight</th>\n",
       "      <th>TARGET</th>\n",
       "    </tr>\n",
       "  </thead>\n",
       "  <tbody>\n",
       "    <tr>\n",
       "      <td>0</td>\n",
       "      <td>30.0</td>\n",
       "      <td>34.0</td>\n",
       "      <td>5.0</td>\n",
       "      <td>62.0</td>\n",
       "      <td>7.0</td>\n",
       "      <td>128.0</td>\n",
       "      <td>6</td>\n",
       "    </tr>\n",
       "    <tr>\n",
       "      <td>1</td>\n",
       "      <td>20.0</td>\n",
       "      <td>34.0</td>\n",
       "      <td>3.0</td>\n",
       "      <td>64.0</td>\n",
       "      <td>8.0</td>\n",
       "      <td>145.0</td>\n",
       "      <td>6</td>\n",
       "    </tr>\n",
       "    <tr>\n",
       "      <td>2</td>\n",
       "      <td>26.0</td>\n",
       "      <td>32.0</td>\n",
       "      <td>4.0</td>\n",
       "      <td>64.0</td>\n",
       "      <td>8.0</td>\n",
       "      <td>148.0</td>\n",
       "      <td>6</td>\n",
       "    </tr>\n",
       "    <tr>\n",
       "      <td>3</td>\n",
       "      <td>43.0</td>\n",
       "      <td>34.0</td>\n",
       "      <td>5.0</td>\n",
       "      <td>61.0</td>\n",
       "      <td>7.0</td>\n",
       "      <td>145.0</td>\n",
       "      <td>6</td>\n",
       "    </tr>\n",
       "    <tr>\n",
       "      <td>4</td>\n",
       "      <td>63.0</td>\n",
       "      <td>38.0</td>\n",
       "      <td>3.0</td>\n",
       "      <td>63.0</td>\n",
       "      <td>8.0</td>\n",
       "      <td>130.0</td>\n",
       "      <td>6</td>\n",
       "    </tr>\n",
       "  </tbody>\n",
       "</table>\n",
       "</div>"
      ],
      "text/plain": [
       "    age  bra_size_chest  bra_size_cup  height  shoe_size  weight TARGET\n",
       "0  30.0            34.0           5.0    62.0        7.0   128.0      6\n",
       "1  20.0            34.0           3.0    64.0        8.0   145.0      6\n",
       "2  26.0            32.0           4.0    64.0        8.0   148.0      6\n",
       "3  43.0            34.0           5.0    61.0        7.0   145.0      6\n",
       "4  63.0            38.0           3.0    63.0        8.0   130.0      6"
      ]
     },
     "execution_count": 5,
     "metadata": {},
     "output_type": "execute_result"
    }
   ],
   "source": [
    "df = pd.read_csv('data/garments.csv.gz', dtype={'TARGET':str})\n",
    "print(len(df))\n",
    "df.head()"
   ]
  },
  {
   "cell_type": "markdown",
   "metadata": {},
   "source": [
    "### Encoding the data\n",
    "\n",
    "For this problem, we one-hot-encode the target classes.  Other loss functions prefer to deal with a single output that is directly ordinal encoded, so we could choose a different encoding if our model needed that. One possible benefit of the one-hot approach is that we can derive something akin to probabilities of the different predictions.  This is desirable for this use case, and many classic models provide a similar `model.predict_proba` for multi-class classifiers."
   ]
  },
  {
   "cell_type": "code",
   "execution_count": 6,
   "metadata": {},
   "outputs": [
    {
     "data": {
      "text/plain": [
       "['00', '0', '2', '4', '6', '8', '10', '12', '14', '16', '18']"
      ]
     },
     "execution_count": 6,
     "metadata": {},
     "output_type": "execute_result"
    }
   ],
   "source": [
    "X = df[['age', 'bra_size_chest', 'bra_size_cup', 'height', 'shoe_size', 'weight']]\n",
    "\n",
    "# One-hot encoding\n",
    "df_one_hot = pd.get_dummies(df)\n",
    "Y = df_one_hot[[col for col in df_one_hot.columns if col.startswith('TARGET')]]\n",
    "\n",
    "# Nicer order for columns (sorted by garment size not lexicographically)\n",
    "Y.columns = [col.replace('TARGET_', '') for col in Y.columns] \n",
    "Y = Y['00 0 2 4 6 8 10 12 14 16 18'.split()]\n",
    "labels = list(Y.columns)\n",
    "labels"
   ]
  },
  {
   "cell_type": "code",
   "execution_count": 9,
   "metadata": {},
   "outputs": [
    {
     "data": {
      "text/html": [
       "<div>\n",
       "<style scoped>\n",
       "    .dataframe tbody tr th:only-of-type {\n",
       "        vertical-align: middle;\n",
       "    }\n",
       "\n",
       "    .dataframe tbody tr th {\n",
       "        vertical-align: top;\n",
       "    }\n",
       "\n",
       "    .dataframe thead th {\n",
       "        text-align: right;\n",
       "    }\n",
       "</style>\n",
       "<table border=\"1\" class=\"dataframe\">\n",
       "  <thead>\n",
       "    <tr style=\"text-align: right;\">\n",
       "      <th></th>\n",
       "      <th>00</th>\n",
       "      <th>0</th>\n",
       "      <th>2</th>\n",
       "      <th>4</th>\n",
       "      <th>6</th>\n",
       "      <th>8</th>\n",
       "      <th>10</th>\n",
       "      <th>12</th>\n",
       "      <th>14</th>\n",
       "      <th>16</th>\n",
       "      <th>18</th>\n",
       "    </tr>\n",
       "  </thead>\n",
       "  <tbody>\n",
       "    <tr>\n",
       "      <td>243565</td>\n",
       "      <td>1</td>\n",
       "      <td>0</td>\n",
       "      <td>0</td>\n",
       "      <td>0</td>\n",
       "      <td>0</td>\n",
       "      <td>0</td>\n",
       "      <td>0</td>\n",
       "      <td>0</td>\n",
       "      <td>0</td>\n",
       "      <td>0</td>\n",
       "      <td>0</td>\n",
       "    </tr>\n",
       "    <tr>\n",
       "      <td>243566</td>\n",
       "      <td>0</td>\n",
       "      <td>0</td>\n",
       "      <td>0</td>\n",
       "      <td>0</td>\n",
       "      <td>0</td>\n",
       "      <td>0</td>\n",
       "      <td>0</td>\n",
       "      <td>1</td>\n",
       "      <td>0</td>\n",
       "      <td>0</td>\n",
       "      <td>0</td>\n",
       "    </tr>\n",
       "    <tr>\n",
       "      <td>243567</td>\n",
       "      <td>0</td>\n",
       "      <td>0</td>\n",
       "      <td>1</td>\n",
       "      <td>0</td>\n",
       "      <td>0</td>\n",
       "      <td>0</td>\n",
       "      <td>0</td>\n",
       "      <td>0</td>\n",
       "      <td>0</td>\n",
       "      <td>0</td>\n",
       "      <td>0</td>\n",
       "    </tr>\n",
       "    <tr>\n",
       "      <td>243568</td>\n",
       "      <td>0</td>\n",
       "      <td>0</td>\n",
       "      <td>0</td>\n",
       "      <td>0</td>\n",
       "      <td>0</td>\n",
       "      <td>0</td>\n",
       "      <td>0</td>\n",
       "      <td>0</td>\n",
       "      <td>0</td>\n",
       "      <td>1</td>\n",
       "      <td>0</td>\n",
       "    </tr>\n",
       "    <tr>\n",
       "      <td>243569</td>\n",
       "      <td>0</td>\n",
       "      <td>0</td>\n",
       "      <td>0</td>\n",
       "      <td>0</td>\n",
       "      <td>1</td>\n",
       "      <td>0</td>\n",
       "      <td>0</td>\n",
       "      <td>0</td>\n",
       "      <td>0</td>\n",
       "      <td>0</td>\n",
       "      <td>0</td>\n",
       "    </tr>\n",
       "  </tbody>\n",
       "</table>\n",
       "</div>"
      ],
      "text/plain": [
       "        00  0  2  4  6  8  10  12  14  16  18\n",
       "243565   1  0  0  0  0  0   0   0   0   0   0\n",
       "243566   0  0  0  0  0  0   0   1   0   0   0\n",
       "243567   0  0  1  0  0  0   0   0   0   0   0\n",
       "243568   0  0  0  0  0  0   0   0   0   1   0\n",
       "243569   0  0  0  0  1  0   0   0   0   0   0"
      ]
     },
     "execution_count": 9,
     "metadata": {},
     "output_type": "execute_result"
    }
   ],
   "source": [
    "# Take a look at the one-hot targets\n",
    "Y.tail()"
   ]
  },
  {
   "cell_type": "markdown",
   "metadata": {},
   "source": [
    "Choose some values for the size of different layers.  We use a first hidden layer of the size of the second order polynomial of the input features; we hope this will be roughly similar to using something like `sklearn.preprocessing.PolynomialFeatures()`, for those familiar with that."
   ]
  },
  {
   "cell_type": "code",
   "execution_count": 10,
   "metadata": {},
   "outputs": [
    {
     "data": {
      "text/plain": [
       "(6, 28, 22, 22, 22, 11)"
      ]
     },
     "execution_count": 10,
     "metadata": {},
     "output_type": "execute_result"
    }
   ],
   "source": [
    "# The number of input features\n",
    "in_dim = X.shape[1]\n",
    "\n",
    "# The number of \"polynomial features\" of order 2\n",
    "hidden1 = int(in_dim * 2 + (in_dim * (in_dim-1) / 2) + 1)\n",
    "out_dim = Y.shape[1]\n",
    "\n",
    "# The sizes of the \"inference layers\"\n",
    "hidden2 = hidden3 = hidden4 = 2 * out_dim   \n",
    "\n",
    "# Remind ourselves of the layer sizes\n",
    "in_dim, hidden1, hidden2, hidden3, hidden4, out_dim"
   ]
  },
  {
   "cell_type": "markdown",
   "metadata": {},
   "source": [
    "The network we generate will resemble the image below.  Weights are colored arbitrarily in the the below image simply to illustrate the different connection strengths in a trained network; these specific colors/values are randomly selected, not as actually trained below.\n",
    "\n",
    "![Garment Network](img/garment-model.png)\n",
    "\n",
    "Drawn with [NN-SVG](http://alexlenail.me/NN-SVG/index.html)"
   ]
  },
  {
   "cell_type": "markdown",
   "metadata": {},
   "source": [
    "### The training regime\n",
    "\n",
    "The below training function is relatively generic.  It will take as arguments:\n",
    "\n",
    "* A `model` to train that we have configured with `torch.nn.Sequential`, most likely\n",
    "* `X_train` for the training data\n",
    "* `Y_train` as a corresponding one-hot-encoded output vector\n",
    "* An `optimizer` to use within the training regime\n",
    "* A `loss_fn` to use for back propagation \n",
    "* We can also optionally pass in settings for `epochs`, `batch_size`, and `early_stop` for abandoning additional epochs of training."
   ]
  },
  {
   "cell_type": "code",
   "execution_count": 13,
   "metadata": {},
   "outputs": [],
   "source": [
    "def do_training(model, X_train, Y_train, optimizer, loss_fn, \n",
    "                epochs=500, batch_size=1000, early_stop=6):\n",
    "    \"Perform a training regime that includes automatic decay of learning rate\"\n",
    "    loss_history = []\n",
    "    print(\"+++ Beginning %d epochs with batch size %d\" % (epochs, batch_size))\n",
    "    \n",
    "    # We expect to decay out, but just in case something funny, \n",
    "    # hard limit of finite number of epochs\n",
    "    for epoch in range(1, epochs+1):\n",
    "        for start in range(0, len(X_train), batch_size):\n",
    "            # Next batch of training rows\n",
    "            X = X_train[start:start+batch_size]\n",
    "            Y = Y_train[start:start+batch_size]\n",
    "\n",
    "            # Forward pass: compute predicted Y by passing X to the model.\n",
    "            Y_pred = model(X)\n",
    "            # Compute loss\n",
    "            loss = loss_fn(Y_pred, Y)\n",
    "        \n",
    "            # Before the backward pass, use the optimizer object to zero all of the\n",
    "            # gradients for the variables it will update (which are the learnable\n",
    "            # weights of the model). This is because by default, gradients are\n",
    "            # accumulated in buffers (i.e, not overwritten) whenever .backward()\n",
    "            # is called. Checkout docs of torch.autograd.backward for more details.\n",
    "            optimizer.zero_grad()\n",
    "\n",
    "            # Backward pass: compute gradient of the loss with respect to model\n",
    "            # parameters\n",
    "            loss.backward()\n",
    "\n",
    "            # Calling the step function on an Optimizer makes an update to its\n",
    "            # parameters\n",
    "            optimizer.step()\n",
    "\n",
    "        # Every epoch print out some information\n",
    "        print(\"Epoch %d; Loss: %0.6f (lr=%0.8f)\" % (\n",
    "                epoch, loss.item(), optimizer.param_groups[0]['lr']))\n",
    "        loss_history.append(loss.item())\n",
    "\n",
    "        # Is this regime currently failing to reduce loss?\n",
    "        ## Run for at least `early_stop` epochs\n",
    "        if len(loss_history) < early_stop:\n",
    "            continue\n",
    "            \n",
    "        ## Lower learning rate by 2x if no improvement in loss for multiple epochs\n",
    "        diff = max(loss_history[-early_stop:]) - min(loss_history[-early_stop:])\n",
    "        if  diff/loss_history[-1] < 0.0005:\n",
    "            optimizer.param_groups[0]['lr'] /= 2\n",
    "            \n",
    "        ## If learning rate is lowered to tiny value, we are not getting anywhere\n",
    "        if optimizer.param_groups[0]['lr'] < 1e-8:           \n",
    "            print(\"+++ Discontinuing training regime when loss becomes constant\")\n",
    "            break"
   ]
  },
  {
   "cell_type": "markdown",
   "metadata": {},
   "source": [
    "### Creating the model\n",
    "\n",
    "This model, and this type of problem, chooses to use multiple fully-connected or \"linear\" layers.  A first hidden layer we hope to use to capture all the immediate feature interactions.  After that, three additional hidden layers are very similar to each other, having what we hope is simply \"enough\" neurons at each layer.  In my experimentation, there is little difference if we use one fewer hidden layer."
   ]
  },
  {
   "cell_type": "code",
   "execution_count": 14,
   "metadata": {},
   "outputs": [],
   "source": [
    "# Create a sequential NN\n",
    "model = torch.nn.Sequential(\n",
    "    # This layer allows \"polynomial features\"\n",
    "    torch.nn.Linear(in_dim, hidden1),\n",
    "    # The activation is treated as a separate layer\n",
    "    torch.nn.ReLU(),\n",
    "\n",
    "    # This layer is \"inference\"\n",
    "    torch.nn.Linear(hidden1, hidden2),\n",
    "    torch.nn.ReLU(), \n",
    "    \n",
    "    # A Dropout layer sometimes reduces co-adaptation of neurons\n",
    "    torch.nn.Dropout(p=0.1),\n",
    "\n",
    "    # This layer is \"inference\"\n",
    "    torch.nn.Linear(hidden2, hidden3),\n",
    "    # Often Leaky ReLU eliminates the \"dead neuron\" danger\n",
    "    torch.nn.LeakyReLU(), \n",
    "    \n",
    "    # Might try another \"inference\" layer\n",
    "    torch.nn.Linear(hidden3, hidden4),\n",
    "    torch.nn.LeakyReLU(), \n",
    "\n",
    "    # A sigmoid activation is used for a binary decision\n",
    "    # Since we use one-hot encoding, we make an independent decision per size\n",
    "    torch.nn.Linear(hidden4, out_dim),  \n",
    "    torch.nn.Sigmoid()\n",
    "    ).to(device)"
   ]
  },
  {
   "cell_type": "markdown",
   "metadata": {},
   "source": [
    "### Train/test split on data, and convert to tensors"
   ]
  },
  {
   "cell_type": "code",
   "execution_count": 15,
   "metadata": {},
   "outputs": [
    {
     "name": "stdout",
     "output_type": "stream",
     "text": [
      "Just the model itself:\n",
      "11,264 bytes allocated on GPU\n",
      "Add the training and testing data to GPU:\n",
      "16,919,552 bytes allocated on GPU\n"
     ]
    }
   ],
   "source": [
    "# Free up the GPU\n",
    "torch.cuda.empty_cache()\n",
    "print(\"Just the model itself:\")\n",
    "print(f\"{torch.cuda.memory_allocated():,} bytes allocated on GPU\")\n",
    "\n",
    "# Split the original data\n",
    "X_train, X_test, Y_train, Y_test = train_test_split(X, Y)\n",
    "\n",
    "# Convert arrays to tensors\n",
    "X_train = torch.from_numpy(X_train.values).float().to(device)\n",
    "X_test  = torch.from_numpy(X_test.values).float().to(device)\n",
    "Y_train = torch.from_numpy(Y_train.values)[:, np.newaxis].float().to(device)\n",
    "Y_test  = torch.from_numpy(Y_test.values)[:, np.newaxis].float().to(device)\n",
    "\n",
    "print(\"Add the training and testing data to GPU:\")\n",
    "print(f\"{torch.cuda.memory_allocated():,} bytes allocated on GPU\")"
   ]
  },
  {
   "cell_type": "code",
   "execution_count": 16,
   "metadata": {},
   "outputs": [
    {
     "name": "stdout",
     "output_type": "stream",
     "text": [
      "----------------------------------------------------------------\n",
      "        Layer (type)               Output Shape         Param #\n",
      "================================================================\n",
      "            Linear-1                [-1, 1, 28]             196\n",
      "              ReLU-2                [-1, 1, 28]               0\n",
      "            Linear-3                [-1, 1, 22]             638\n",
      "              ReLU-4                [-1, 1, 22]               0\n",
      "           Dropout-5                [-1, 1, 22]               0\n",
      "            Linear-6                [-1, 1, 22]             506\n",
      "         LeakyReLU-7                [-1, 1, 22]               0\n",
      "            Linear-8                [-1, 1, 22]             506\n",
      "         LeakyReLU-9                [-1, 1, 22]               0\n",
      "           Linear-10                [-1, 1, 11]             253\n",
      "          Sigmoid-11                [-1, 1, 11]               0\n",
      "================================================================\n",
      "Total params: 2,099\n",
      "Trainable params: 2,099\n",
      "Non-trainable params: 0\n",
      "----------------------------------------------------------------\n",
      "Input size (MB): 0.00\n",
      "Forward/backward pass size (MB): 0.00\n",
      "Params size (MB): 0.01\n",
      "Estimated Total Size (MB): 0.01\n",
      "----------------------------------------------------------------\n"
     ]
    }
   ],
   "source": [
    "from torchsummary import summary\n",
    "summary(model, input_size=(1, X_train.shape[1]))"
   ]
  },
  {
   "cell_type": "markdown",
   "metadata": {},
   "source": [
    "### Perform the training"
   ]
  },
  {
   "cell_type": "code",
   "execution_count": 17,
   "metadata": {
    "scrolled": false
   },
   "outputs": [
    {
     "name": "stdout",
     "output_type": "stream",
     "text": [
      "+++ Beginning 500 epochs with batch size 1000\n",
      "Epoch 1; Loss: 0.104332 (lr=0.00010000)\n",
      "Epoch 2; Loss: 0.046605 (lr=0.00010000)\n",
      "Epoch 3; Loss: 0.042008 (lr=0.00010000)\n",
      "Epoch 4; Loss: 0.041070 (lr=0.00010000)\n",
      "Epoch 5; Loss: 0.040586 (lr=0.00010000)\n",
      "Epoch 6; Loss: 0.040567 (lr=0.00010000)\n",
      "Epoch 7; Loss: 0.040386 (lr=0.00010000)\n",
      "Epoch 8; Loss: 0.040313 (lr=0.00010000)\n",
      "Epoch 9; Loss: 0.040210 (lr=0.00010000)\n",
      "Epoch 10; Loss: 0.040177 (lr=0.00010000)\n",
      "Epoch 11; Loss: 0.040148 (lr=0.00010000)\n",
      "Epoch 12; Loss: 0.040148 (lr=0.00010000)\n",
      "Epoch 13; Loss: 0.040030 (lr=0.00010000)\n",
      "Epoch 14; Loss: 0.039975 (lr=0.00010000)\n",
      "Epoch 15; Loss: 0.039961 (lr=0.00010000)\n",
      "Epoch 16; Loss: 0.039916 (lr=0.00010000)\n",
      "Epoch 17; Loss: 0.039912 (lr=0.00010000)\n",
      "Epoch 18; Loss: 0.039887 (lr=0.00010000)\n",
      "Epoch 19; Loss: 0.039876 (lr=0.00010000)\n",
      "Epoch 20; Loss: 0.039855 (lr=0.00010000)\n",
      "Epoch 21; Loss: 0.039855 (lr=0.00010000)\n",
      "Epoch 22; Loss: 0.039834 (lr=0.00010000)\n",
      "Epoch 23; Loss: 0.039823 (lr=0.00010000)\n",
      "Epoch 24; Loss: 0.039821 (lr=0.00010000)\n",
      "Epoch 25; Loss: 0.039811 (lr=0.00010000)\n",
      "Epoch 26; Loss: 0.039817 (lr=0.00010000)\n",
      "Epoch 27; Loss: 0.039814 (lr=0.00010000)\n",
      "Epoch 28; Loss: 0.039802 (lr=0.00010000)\n",
      "Epoch 29; Loss: 0.039792 (lr=0.00010000)\n",
      "Epoch 30; Loss: 0.039800 (lr=0.00010000)\n",
      "Epoch 31; Loss: 0.039800 (lr=0.00010000)\n",
      "Epoch 32; Loss: 0.039793 (lr=0.00010000)\n",
      "Epoch 33; Loss: 0.039789 (lr=0.00010000)\n",
      "Epoch 34; Loss: 0.039789 (lr=0.00005000)\n",
      "Epoch 35; Loss: 0.039783 (lr=0.00002500)\n",
      "Epoch 36; Loss: 0.039784 (lr=0.00001250)\n",
      "Epoch 37; Loss: 0.039786 (lr=0.00000625)\n",
      "Epoch 38; Loss: 0.039785 (lr=0.00000313)\n",
      "Epoch 39; Loss: 0.039786 (lr=0.00000156)\n",
      "Epoch 40; Loss: 0.039791 (lr=0.00000078)\n",
      "Epoch 41; Loss: 0.039783 (lr=0.00000039)\n",
      "Epoch 42; Loss: 0.039785 (lr=0.00000020)\n",
      "Epoch 43; Loss: 0.039787 (lr=0.00000010)\n",
      "Epoch 44; Loss: 0.039784 (lr=0.00000005)\n",
      "Epoch 45; Loss: 0.039786 (lr=0.00000002)\n",
      "Epoch 46; Loss: 0.039783 (lr=0.00000001)\n",
      "+++ Discontinuing training regime when loss becomes constant\n",
      "CPU times: user 46.7 s, sys: 2.4 s, total: 49.1 s\n",
      "Wall time: 49 s\n"
     ]
    }
   ],
   "source": [
    "%%time\n",
    "## Now run model (start with high learning rate and decay)\n",
    "\n",
    "# MSELoss is a common default, SmoothL1Loss does a little better here\n",
    "loss_fn = torch.nn.SmoothL1Loss()\n",
    "learning_rate = 1e-4\n",
    "optimizer = torch.optim.Adam(model.parameters(), lr=learning_rate)\n",
    "do_training(model, X_train, Y_train, optimizer, loss_fn)"
   ]
  },
  {
   "cell_type": "markdown",
   "metadata": {},
   "source": [
    "### Evaluating the model\n",
    "\n",
    "Unfortunately, this approach does not make especially good predictions.  One wrinkle in the problem is that while we would ideally like to predict the absolutely correct answer as often as possible, there is some value as well in making predictions that are *close* and/or having 2nd or 3rd ranked predictions that are right or close.  Perhaps a custom loss function that expressed the exact real goal would do better.\n",
    "\n",
    "The main problem that shows up in this PyTorch model is one that we experienced using some other classes of machine learning approaches: the predictions tend to skew towards more central values.  This makes them correct, or at least close, for \"average sized\" customers, but often dramatically off for those at either end of the garment size scale."
   ]
  },
  {
   "cell_type": "code",
   "execution_count": 27,
   "metadata": {},
   "outputs": [
    {
     "data": {
      "image/png": "[encoded data removed]",
      "text/plain": [
       "<Figure size 576x288 with 1 Axes>"
      ]
     },
     "metadata": {
      "needs_background": "light"
     },
     "output_type": "display_data"
    }
   ],
   "source": [
    "from random import randrange\n",
    "\n",
    "ndx = randrange(len(X_test))\n",
    "probs = model(X_test[ndx])\n",
    "truth = torch.argmax(Y_test[ndx]).item()\n",
    "\n",
    "plt.figure(figsize=(8, 4))\n",
    "plt.plot(labels, probs.cpu().detach().numpy())\n",
    "plt.bar(truth, 1.1*max(probs.cpu().detach().numpy()), width=.25, color='red')\n",
    "plt.xticks(range(len(labels)), labels, fontsize=8, rotation='vertical');"
   ]
  },
  {
   "cell_type": "markdown",
   "metadata": {},
   "source": [
    "## Next Lesson\n",
    "\n",
    "**Tasks with Networks**: This example was a relatively common one of making categorical predictions from independent features.  For this type of network generally uses primarily or exclusively linear layers.  Next we will take a look at an image classifer that will need some layers to associate nearby pixels.\n",
    "\n",
    "<a href=\"NetworkExamples_1.ipynb\"><img src=\"img/open-notebook.png\" align=\"left\"/></a>"
   ]
  }
 ],
 "metadata": {
  "kernelspec": {
   "display_name": "Python 3",
   "language": "python",
   "name": "python3"
  },
  "language_info": {
   "codemirror_mode": {
    "name": "ipython",
    "version": 3
   },
   "file_extension": ".py",
   "mimetype": "text/x-python",
   "name": "python",
   "nbconvert_exporter": "python",
   "pygments_lexer": "ipython3",
   "version": "3.7.1"
  }
 },
 "nbformat": 4,
 "nbformat_minor": 2
}
