{
 "cells": [
  {
   "cell_type": "markdown",
   "metadata": {},
   "source": [
    "# Machine Learning with PyTorch"
   ]
  },
  {
   "cell_type": "markdown",
   "metadata": {},
   "source": [
    "## Resources\n",
    "\n",
    "This training material is available under a CC BY-NC-SA 4.0 license. You can find it at GitHub [DavidMertz/PyTorch-webinar](https://github.com/DavidMertz/PyTorch-webinar).\n",
    "\n",
    "Before attending this course, please configure the environments you will need. Within the repository, find the file requirements.txt to install software using pip, or the file environment.yml to install software using conda.\n",
    "\n",
    "Please contact me and my training company, [KDM Training](http://kdm.training) for hands-on, instructor-led, onsite or remote, training. Our email is info@kdm.training.\n",
    "\n",
    "\n",
    "### Installing training materials\n",
    "\n",
    "Before attending this course, please configure the environments you will need.  Within the repository, find the file `requirements.txt` to install software using `pip`, or the file `environment.yml` to install software using `conda`.  I.e.:\n",
    "\n",
    "```bash\n",
    "$ conda env create -f environment.yml\n",
    "$ conda activate Pearson-PyTorch\n",
    "(Pearson-PyTorch) $ jupyter notebook Outline.ipynb\n",
    "```\n",
    "\n",
    "Or\n",
    "\n",
    "```bash\n",
    "$ pip install -r requirements.txt\n",
    "$ juypter notebook Outline.ipynb\n",
    "```"
   ]
  },
  {
   "cell_type": "markdown",
   "metadata": {},
   "source": [
    "# Beginning Material"
   ]
  },
  {
   "cell_type": "code",
   "execution_count": null,
   "metadata": {},
   "outputs": [],
   "source": [
    "from torch import device, cuda\n",
    "if cuda.is_available():\n",
    "    print(cuda.get_device_capability())\n",
    "    print(cuda.get_device_name())"
   ]
  },
  {
   "cell_type": "markdown",
   "metadata": {},
   "source": [
    "## What is Machine Learning? What is Deep Learning? \n",
    "\n",
    "* Understand the difference between \"deep learning\" and other ML techniques\n",
    "* Describe the techniques used in machine learning\n",
    "* Understand classification versus regression versus clustering\n",
    "* Perform dimensionality reduction\n",
    "* Explain feature engineering\n",
    "* Utilize feature selection\n",
    "* Distinguish categorical versus ordinal versus continuous variables\n",
    "* Perform one-hot encoding\n",
    "* Types of network layers\n",
    "\n",
    "<div><a href=\"WhatIsML.ipynb\"><img src=\"img/open-notebook.png\" align=\"left\"/></a></div>"
   ]
  },
  {
   "cell_type": "markdown",
   "metadata": {},
   "source": [
    "## Comparing Several Libraries\n",
    "\n",
    "A quick look at performing the same task in:\n",
    "\n",
    "* scikit-learn\n",
    "* Keras (with TensorFlow)\n",
    "* PyTorch.\n",
    "\n",
    "<div><a href=\"Library_Comparison.ipynb\"><img src=\"img/open-notebook.png\" align=\"left\"/></a></div>"
   ]
  },
  {
   "cell_type": "markdown",
   "metadata": {},
   "source": [
    "## Understanding PyTorch\n",
    "\n",
    "* Tensors and NumPy interfaces\n",
    "* Autograd\n",
    "* Using GPUs with `torch.cuda`\n",
    "* Parallelizing on clusters with `torch.distributed`\n",
    "* Create a neural network with `torch.nn`\n",
    "\n",
    "<div><a href=\"IntroPyTorch.ipynb\"><img src=\"img/open-notebook.png\" align=\"left\"/></a></div>"
   ]
  },
  {
   "cell_type": "markdown",
   "metadata": {},
   "source": [
    "## Tasks with Networks\n",
    "\n",
    "&nbsp;• A simple feature classifier \n",
    "<a href=\"NetworkExamples_0.ipynb\"><img src=\"img/open-notebook.png\" align=\"left\"/></a>\n",
    "    \n",
    "&nbsp;• An image classifier\n",
    "<a href=\"NetworkExamples_1.ipynb\"><img src=\"img/open-notebook.png\" align=\"left\"/></a>\n",
    "    \n",
    "&nbsp;• A regression prediction\n",
    "<a href=\"NetworkExamples_2.ipynb\"><img src=\"img/open-notebook.png\" align=\"left\"/></a>\n",
    "\n",
    "&nbsp;• Clustering with PyTorch\n",
    "<a href=\"NetworkExamples_3.ipynb\"><img src=\"img/open-notebook.png\" align=\"left\"/></a>\n",
    "\n",
    "&nbsp;•  Generative Adversarial Networks (GAN)\n",
    "<a href=\"NetworkExamples_4.ipynb\"><img src=\"img/open-notebook.png\" align=\"left\"/></a>\n",
    "\n",
    "&nbsp;•  Part of Speech Tagger\n",
    "<a href=\"NetworkExamples_5.ipynb\"><img src=\"img/open-notebook.png\" align=\"left\"/></a>"
   ]
  },
  {
   "cell_type": "markdown",
   "metadata": {},
   "source": [
    "## Enhancing an Image Classifier \n",
    "\n",
    "* Starting with `torchvision.models`\n",
    "* Retraining pretrained models\n",
    "* Modifying Network Layers\n",
    "* Understanding Effects of Network Structure\n",
    "\n",
    "<div><a href=\"ImageClassifier.ipynb\"><img src=\"img/open-notebook.png\" align=\"left\"/></a></div>"
   ]
  },
  {
   "cell_type": "markdown",
   "metadata": {},
   "source": [
    "## Natural Language Processing with AllenNLP\n",
    "\n",
    "* What is AllenNLP?\n",
    "* What is SpaCy?\n",
    "* High Level Interfaces to NLP using PyTorch\n",
    "* Sentiment Analysis\n",
    "* Part-of-Speech Tagging\n",
    "\n",
    "<div><a href=\"AllenNLP_0.ipynb\"><img src=\"img/open-notebook.png\" align=\"left\"/></a></div>"
   ]
  }
 ],
 "metadata": {
  "kernelspec": {
   "display_name": "Python 3",
   "language": "python",
   "name": "python3"
  },
  "language_info": {
   "codemirror_mode": {
    "name": "ipython",
    "version": 3
   },
   "file_extension": ".py",
   "mimetype": "text/x-python",
   "name": "python",
   "nbconvert_exporter": "python",
   "pygments_lexer": "ipython3",
   "version": "3.8.8"
  }
 },
 "nbformat": 4,
 "nbformat_minor": 4
}
